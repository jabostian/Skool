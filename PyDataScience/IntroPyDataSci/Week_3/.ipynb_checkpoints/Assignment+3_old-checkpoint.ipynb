{
 "cells": [
  {
   "cell_type": "markdown",
   "metadata": {},
   "source": [
    "---\n",
    "\n",
    "_You are currently looking at **version 1.5** of this notebook. To download notebooks and datafiles, as well as get help on Jupyter notebooks in the Coursera platform, visit the [Jupyter Notebook FAQ](https://www.coursera.org/learn/python-data-analysis/resources/0dhYG) course resource._\n",
    "\n",
    "---"
   ]
  },
  {
   "cell_type": "markdown",
   "metadata": {},
   "source": [
    "# Assignment 3 - More Pandas\n",
    "This assignment requires more individual learning then the last one did - you are encouraged to check out the [pandas documentation](http://pandas.pydata.org/pandas-docs/stable/) to find functions or methods you might not have used yet, or ask questions on [Stack Overflow](http://stackoverflow.com/) and tag them as pandas and python related. And of course, the discussion forums are open for interaction with your peers and the course staff."
   ]
  },
  {
   "cell_type": "markdown",
   "metadata": {},
   "source": [
    "### Question 1 (20%)\n",
    "Load the energy data from the file `Energy Indicators.xls`, which is a list of indicators of [energy supply and renewable electricity production](Energy%20Indicators.xls) from the [United Nations](http://unstats.un.org/unsd/environment/excel_file_tables/2013/Energy%20Indicators.xls) for the year 2013, and should be put into a DataFrame with the variable name of **energy**.\n",
    "\n",
    "Keep in mind that this is an Excel file, and not a comma separated values file. Also, make sure to exclude the footer and header information from the datafile. The first two columns are unneccessary, so you should get rid of them, and you should change the column labels so that the columns are:\n",
    "\n",
    "`['Country', 'Energy Supply', 'Energy Supply per Capita', '% Renewable']`\n",
    "\n",
    "Convert `Energy Supply` to gigajoules (there are 1,000,000 gigajoules in a petajoule). For all countries which have missing data (e.g. data with \"...\") make sure this is reflected as `np.NaN` values.\n",
    "\n",
    "Rename the following list of countries (for use in later questions):\n",
    "\n",
    "```\"Republic of Korea\": \"South Korea\",\n",
    "\"United States of America\": \"United States\",\n",
    "\"United Kingdom of Great Britain and Northern Ireland\": \"United Kingdom\",\n",
    "\"China, Hong Kong Special Administrative Region\": \"Hong Kong\"```\n",
    "\n",
    "There are also several countries with numbers and/or parenthesis in their name. Be sure to remove these, \n",
    "\n",
    "e.g. \n",
    "\n",
    "`'Bolivia (Plurinational State of)'` should be `'Bolivia'`, \n",
    "\n",
    "`'Switzerland17'` should be `'Switzerland'`.\n",
    "\n",
    "<br>\n",
    "\n",
    "Next, load the GDP data from the file `world_bank.csv`, which is a csv containing countries' GDP from 1960 to 2015 from [World Bank](http://data.worldbank.org/indicator/NY.GDP.MKTP.CD). Call this DataFrame **GDP**. \n",
    "\n",
    "Make sure to skip the header, and rename the following list of countries:\n",
    "\n",
    "```\"Korea, Rep.\": \"South Korea\", \n",
    "\"Iran, Islamic Rep.\": \"Iran\",\n",
    "\"Hong Kong SAR, China\": \"Hong Kong\"```\n",
    "\n",
    "<br>\n",
    "\n",
    "Finally, load the [Sciamgo Journal and Country Rank data for Energy Engineering and Power Technology](http://www.scimagojr.com/countryrank.php?category=2102) from the file `scimagojr-3.xlsx`, which ranks countries based on their journal contributions in the aforementioned area. Call this DataFrame **ScimEn**.\n",
    "\n",
    "Join the three datasets: GDP, Energy, and ScimEn into a new dataset (using the intersection of country names). Use only the last 10 years (2006-2015) of GDP data and only the top 15 countries by Scimagojr 'Rank' (Rank 1 through 15). \n",
    "\n",
    "The index of this DataFrame should be the name of the country, and the columns should be ['Rank', 'Documents', 'Citable documents', 'Citations', 'Self-citations',\n",
    "       'Citations per document', 'H index', 'Energy Supply',\n",
    "       'Energy Supply per Capita', '% Renewable', '2006', '2007', '2008',\n",
    "       '2009', '2010', '2011', '2012', '2013', '2014', '2015'].\n",
    "\n",
    "*This function should return a DataFrame with 20 columns and 15 entries.*"
   ]
  },
  {
   "cell_type": "markdown",
   "metadata": {},
   "source": [
    "### My work area."
   ]
  },
  {
   "cell_type": "code",
   "execution_count": 12,
   "metadata": {
    "collapsed": false
   },
   "outputs": [
    {
     "name": "stdout",
     "output_type": "stream",
     "text": [
      "Energy df size:  227\n",
      "         Country  Energy Supply  Energy Supply per Capita  % Renewable\n",
      "0    Afghanistan    321000000.0                      10.0     78.66928\n",
      "226     Zimbabwe    480000000.0                      32.0     52.53612 \n",
      "-----------\n",
      "\n",
      "GDP df size:  264\n",
      "      Country          2006          2007          2008          2009  \\\n",
      "0       Aruba           NaN           NaN           NaN           NaN   \n",
      "263  Zimbabwe  1.006276e+10  9.695130e+09  7.982103e+09  8.459783e+09   \n",
      "\n",
      "             2010          2011          2012          2013          2014  \\\n",
      "0    2.467704e+09           NaN           NaN           NaN           NaN   \n",
      "263  9.422161e+09  1.054391e+10  1.165789e+10  1.218064e+10  1.264939e+10   \n",
      "\n",
      "             2015  \n",
      "0             NaN  \n",
      "263  1.278517e+10   \n",
      "-----------\n",
      "\n",
      "\n",
      "ScimEn df size:  191\n",
      "        Country  Rank  Documents  Citable documents  Citations  \\\n",
      "0         China     1     127050             126767     597237   \n",
      "190  Mauritania   191          1                  1          1   \n",
      "\n",
      "     Self-citations  Citations per document  H index  \n",
      "0            411683                     4.7      138  \n",
      "190               0                     1.0        1   \n",
      "-----------\n",
      "\n",
      "\n",
      "tdf size:  178\n",
      "      Country          2006          2007          2008          2009  \\\n",
      "0     Andorra  4.018196e+09  4.021331e+09  3.675728e+09  3.535389e+09   \n",
      "177  Zimbabwe  1.006276e+10  9.695130e+09  7.982103e+09  8.459783e+09   \n",
      "\n",
      "             2010          2011          2012          2013          2014  \\\n",
      "0    3.346317e+09  3.185605e+09  3.129538e+09  3.127550e+09           NaN   \n",
      "177  9.422161e+09  1.054391e+10  1.165789e+10  1.218064e+10  1.264939e+10   \n",
      "\n",
      "      ...     Energy Supply  Energy Supply per Capita  % Renewable  Rank  \\\n",
      "0     ...         9000000.0                     121.0     88.69565   168   \n",
      "177   ...       480000000.0                      32.0     52.53612   119   \n",
      "\n",
      "     Documents  Citable documents  Citations  Self-citations  \\\n",
      "0            2                  2         13               0   \n",
      "177         22                 21         27               1   \n",
      "\n",
      "     Citations per document  H index  \n",
      "0                      6.50        1  \n",
      "177                    1.23        3  \n",
      "\n",
      "[2 rows x 21 columns] \n",
      "-----------\n",
      "\n",
      "\n",
      "res size:  15\n",
      "                       2006          2007          2008          2009  \\\n",
      "Country                                                                 \n",
      "Australia      1.021939e+12  1.060340e+12  1.099644e+12  1.119654e+12   \n",
      "United States  1.479230e+13  1.505540e+13  1.501149e+13  1.459484e+13   \n",
      "\n",
      "                       2010          2011          2012          2013  \\\n",
      "Country                                                                 \n",
      "Australia      1.142251e+12  1.169431e+12  1.211913e+12  1.241484e+12   \n",
      "United States  1.496437e+13  1.520402e+13  1.554216e+13  1.577367e+13   \n",
      "\n",
      "                       2014          2015  Energy Supply  \\\n",
      "Country                                                    \n",
      "Australia      1.272520e+12  1.301251e+12   5.386000e+09   \n",
      "United States  1.615662e+13  1.654857e+13   9.083800e+10   \n",
      "\n",
      "               Energy Supply per Capita  % Renewable  Rank  Documents  \\\n",
      "Country                                                                 \n",
      "Australia                         231.0     11.81081    14       8831   \n",
      "United States                     286.0     11.57098     2      96661   \n",
      "\n",
      "               Citable documents  Citations  Self-citations  \\\n",
      "Country                                                       \n",
      "Australia                   8725      90765           15606   \n",
      "United States              94747     792274          265436   \n",
      "\n",
      "               Citations per document  H index  \n",
      "Country                                         \n",
      "Australia                       10.28      107  \n",
      "United States                    8.20      230   \n",
      "-----------\n",
      "\n",
      "\n",
      "                            2006          2007          2008          2009  \\\n",
      "Country                                                                      \n",
      "Australia           1.021939e+12  1.060340e+12  1.099644e+12  1.119654e+12   \n",
      "Brazil              1.845080e+12  1.957118e+12  2.056809e+12  2.054215e+12   \n",
      "Canada              1.564469e+12  1.596740e+12  1.612713e+12  1.565145e+12   \n",
      "China               3.992331e+12  4.559041e+12  4.997775e+12  5.459247e+12   \n",
      "Germany             3.332891e+12  3.441561e+12  3.478809e+12  3.283340e+12   \n",
      "Spain               1.414823e+12  1.468146e+12  1.484530e+12  1.431475e+12   \n",
      "France              2.607840e+12  2.669424e+12  2.674637e+12  2.595967e+12   \n",
      "United Kingdom      2.419631e+12  2.482203e+12  2.470614e+12  2.367048e+12   \n",
      "India               1.265894e+12  1.374865e+12  1.428361e+12  1.549483e+12   \n",
      "Iran                3.895523e+11  4.250646e+11  4.289909e+11  4.389208e+11   \n",
      "Italy               2.202170e+12  2.234627e+12  2.211154e+12  2.089938e+12   \n",
      "Japan               5.496542e+12  5.617036e+12  5.558527e+12  5.251308e+12   \n",
      "South Korea         9.410199e+11  9.924316e+11  1.020510e+12  1.027730e+12   \n",
      "Russian Federation  1.385793e+12  1.504071e+12  1.583004e+12  1.459199e+12   \n",
      "United States       1.479230e+13  1.505540e+13  1.501149e+13  1.459484e+13   \n",
      "\n",
      "                            2010          2011          2012          2013  \\\n",
      "Country                                                                      \n",
      "Australia           1.142251e+12  1.169431e+12  1.211913e+12  1.241484e+12   \n",
      "Brazil              2.208872e+12  2.295245e+12  2.339209e+12  2.409740e+12   \n",
      "Canada              1.613406e+12  1.664087e+12  1.693133e+12  1.730688e+12   \n",
      "China               6.039659e+12  6.612490e+12  7.124978e+12  7.672448e+12   \n",
      "Germany             3.417298e+12  3.542371e+12  3.556724e+12  3.567317e+12   \n",
      "Spain               1.431673e+12  1.417355e+12  1.380216e+12  1.357139e+12   \n",
      "France              2.646995e+12  2.702032e+12  2.706968e+12  2.722567e+12   \n",
      "United Kingdom      2.403504e+12  2.450911e+12  2.479809e+12  2.533370e+12   \n",
      "India               1.708459e+12  1.821872e+12  1.924235e+12  2.051982e+12   \n",
      "Iran                4.677902e+11  4.853309e+11  4.532569e+11  4.445926e+11   \n",
      "Italy               2.125185e+12  2.137439e+12  2.077184e+12  2.040871e+12   \n",
      "Japan               5.498718e+12  5.473738e+12  5.569102e+12  5.644659e+12   \n",
      "South Korea         1.094499e+12  1.134796e+12  1.160809e+12  1.194429e+12   \n",
      "Russian Federation  1.524917e+12  1.589943e+12  1.645876e+12  1.666934e+12   \n",
      "United States       1.496437e+13  1.520402e+13  1.554216e+13  1.577367e+13   \n",
      "\n",
      "                            2014          2015  Energy Supply  \\\n",
      "Country                                                         \n",
      "Australia           1.272520e+12  1.301251e+12   5.386000e+09   \n",
      "Brazil              2.412231e+12  2.319423e+12   1.214900e+10   \n",
      "Canada              1.773486e+12  1.792609e+12   1.043100e+10   \n",
      "China               8.230121e+12  8.797999e+12   1.271910e+11   \n",
      "Germany             3.624386e+12  3.685556e+12   1.326100e+10   \n",
      "Spain               1.375605e+12  1.419821e+12   4.923000e+09   \n",
      "France              2.729632e+12  2.761185e+12   1.059700e+10   \n",
      "United Kingdom      2.605643e+12  2.666333e+12   7.920000e+09   \n",
      "India               2.200617e+12  2.367206e+12   3.319500e+10   \n",
      "Iran                4.639027e+11           NaN   9.172000e+09   \n",
      "Italy               2.033868e+12  2.049316e+12   6.530000e+09   \n",
      "Japan               5.642884e+12  5.669563e+12   1.898400e+10   \n",
      "South Korea         1.234340e+12  1.266580e+12   1.100700e+10   \n",
      "Russian Federation  1.678709e+12  1.616149e+12   3.070900e+10   \n",
      "United States       1.615662e+13  1.654857e+13   9.083800e+10   \n",
      "\n",
      "                    Energy Supply per Capita  % Renewable  Rank  Documents  \\\n",
      "Country                                                                      \n",
      "Australia                              231.0    11.810810    14       8831   \n",
      "Brazil                                  59.0    69.648030    15       8668   \n",
      "Canada                                 296.0    61.945430     6      17899   \n",
      "China                                   93.0    19.754910     1     127050   \n",
      "Germany                                165.0    17.901530     7      17027   \n",
      "Spain                                  106.0    37.968590    12       9428   \n",
      "France                                 166.0    17.020280     9      13153   \n",
      "United Kingdom                         124.0    10.600470     4      20944   \n",
      "India                                   26.0    14.969080     8      15005   \n",
      "Iran                                   119.0     5.707721    13       8896   \n",
      "Italy                                  109.0    33.667230    11      10964   \n",
      "Japan                                  149.0    10.232820     3      30504   \n",
      "South Korea                            221.0     2.279353    10      11983   \n",
      "Russian Federation                     214.0    17.288680     5      18534   \n",
      "United States                          286.0    11.570980     2      96661   \n",
      "\n",
      "                    Citable documents  Citations  Self-citations  \\\n",
      "Country                                                            \n",
      "Australia                        8725      90765           15606   \n",
      "Brazil                           8596      60702           14396   \n",
      "Canada                          17620     215003           40930   \n",
      "China                          126767     597237          411683   \n",
      "Germany                         16831     140566           27426   \n",
      "Spain                            9330     123336           23964   \n",
      "France                          12973     130632           28601   \n",
      "United Kingdom                  20357     206091           37874   \n",
      "India                           14841     128763           37209   \n",
      "Iran                             8819      57470           19125   \n",
      "Italy                           10794     111850           26661   \n",
      "Japan                           30287     223024           61554   \n",
      "South Korea                     11923     114675           22595   \n",
      "Russian Federation              18301      34266           12422   \n",
      "United States                   94747     792274          265436   \n",
      "\n",
      "                    Citations per document  H index  \n",
      "Country                                              \n",
      "Australia                            10.28      107  \n",
      "Brazil                                7.00       86  \n",
      "Canada                               12.01      149  \n",
      "China                                 4.70      138  \n",
      "Germany                               8.26      126  \n",
      "Spain                                13.08      115  \n",
      "France                                9.93      114  \n",
      "United Kingdom                        9.84      139  \n",
      "India                                 8.58      115  \n",
      "Iran                                  6.46       72  \n",
      "Italy                                10.20      106  \n",
      "Japan                                 7.31      134  \n",
      "South Korea                           9.57      104  \n",
      "Russian Federation                    1.85       57  \n",
      "United States                         8.20      230  \n"
     ]
    }
   ],
   "source": [
    "import pandas as pd\n",
    "import numpy as np\n",
    "\n",
    "def energy():\n",
    "    country_names = {'Australia1': 'Australia',\n",
    "                     'Bolivia (Plurinational State of)': 'Bolivia',\n",
    "                     'China2': 'China',\n",
    "                     'China, Hong Kong Special Administrative Region3': 'Hong Kong',\n",
    "                     'China, Macao Special Administrative Region4': 'Macao',\n",
    "                     'Côte d\\'Ivoire': 'Cote d\\'Ivoire',\n",
    "                     'Denmark5': 'Denmark',\n",
    "                     'Democratic Republic of the Congo': 'congo',\n",
    "                     'Democratic People\\'s Republic of Korea': 'North Korea',\n",
    "                     'Falkland Islands (Malvinas)': 'Falkland Islands',\n",
    "                     'France6': 'France',\n",
    "                     'Greenland7': 'Greenland',\n",
    "                     'Indonesia8': 'Indonesia',\n",
    "                     'Iran (Islamic Republic of)': 'Iran',\n",
    "                     'Italy9': 'Italy',\n",
    "                     'Japan10': 'Japan',\n",
    "                     'Kuwait11': 'Kuwait',\n",
    "                     'Lao People\\'s Democratic Republic': 'Laos',\n",
    "                     'Micronesia (Federated States of)': 'Micronesia',\n",
    "                     'Netherlands12': 'Netherlands',\n",
    "                     'Portugal13': 'Portugal',\n",
    "                     'Republic of Korea': 'South Korea',\n",
    "                     'Republic of Moldova': 'Moldova',\n",
    "                     'Saint Lucia': 'St. Lucia',\n",
    "                     'Saudi Arabia14': 'Saudi Arabia',\n",
    "                     'Serbia15': 'Serbia',\n",
    "                     'Sint Maarten (Dutch part)': 'Sint Maarten',\n",
    "                     'Spain16': 'Spain',\n",
    "                     'Switzerland17': 'Switzerland',\n",
    "                     'The former Yugoslav Republic of Macedonia': 'Macedonia',\n",
    "                     'Ukraine18': 'Ukraine',\n",
    "                     'United Kingdom of Great Britain and Northern Ireland19': 'United Kingdom',\n",
    "                     'United Republic of Tanzania': 'Tanzania',\n",
    "                     'United States of America20': 'United States',\n",
    "                     'Venezuela (Bolivarian Republic of)': 'Venezuela',\n",
    "                     'Viet Nam': 'Vietnam'\n",
    "                    }\n",
    "\n",
    "    xl = pd.ExcelFile('Energy Indicators.xls')\n",
    "    Energy = (xl.parse('Energy', na_values='...')\n",
    "                .drop([0,1,2,3,4,5,6,7,8,9,10,11,12,13,14,15],0)\n",
    "                .drop(['Unnamed: 0', 'Unnamed: 1'], 1)\n",
    "                .dropna(thresh=2)\n",
    "                .rename(columns={'Environmental Indicators: Energy': 'Country',\n",
    "                                 'Unnamed: 3': 'Energy Supply',\n",
    "                                 'Unnamed: 4': 'Energy Supply per Capita',\n",
    "                                 'Unnamed: 5': '% Renewable'}))\n",
    "    Energy['Energy Supply'] = Energy['Energy Supply'] * 1000000\n",
    "    Energy.set_index('Country', inplace=True)\n",
    "    Energy.rename(index=country_names, inplace=True)\n",
    "    Energy.reset_index(inplace=True)\n",
    "    \n",
    "    Energy['Energy Supply'] = Energy['Energy Supply'].astype(np.float64)\n",
    "    Energy['Energy Supply per Capita'] = Energy['Energy Supply per Capita'].astype(np.float64)\n",
    "    Energy['% Renewable'] = Energy['% Renewable'].astype(np.float64)\n",
    "\n",
    "    print('Energy df size: ', Energy.index.size)\n",
    "    # Energy.info()\n",
    "    print(Energy.iloc[[0,-1]], '\\n-----------\\n')\n",
    "    return Energy\n",
    "    \n",
    "def gdp():\n",
    "    country_names = {'Congo, Rep.': 'Congo',\n",
    "                     'Egypt, Arab Rep.': 'Egypt',\n",
    "                     'Gambia, The': 'Gambia',\n",
    "                     'Hong Kong SAR, China': 'Hong Kong',\n",
    "                     'Iran, Islamic Rep.': 'Iran',\n",
    "                     'Korea, Rep.': 'South Korea',\n",
    "                     'Korea, Dem. People’s Rep': 'North Korea',\n",
    "                     'Kyrgyz Republic': 'Kyrgyzstan',\n",
    "                     'Lao PDR': 'Laos',\n",
    "                     'Macao SAR, China': 'Macao',\n",
    "                     'Macedonia, FYR': 'Macedonia',\n",
    "                     'Slovak Republic': 'Slovakia',\n",
    "                     'Venezuela, RB': 'Venezuela',\n",
    "                     'Yemen, Rep.': 'Yemen'\n",
    "                    }\n",
    "    \n",
    "    GDP = pd.read_csv('world_bank.csv', header=4)\n",
    "    GDP = GDP.rename(columns={'Country Name': 'Country'})\n",
    "    GDP = GDP[['Country','2006','2007','2008','2009','2010','2011','2012','2013','2014','2015']]\n",
    "    GDP.set_index('Country', inplace=True)\n",
    "    GDP.rename(index=country_names, inplace=True)\n",
    "    GDP.reset_index(inplace=True)\n",
    "\n",
    "    print('GDP df size: ', GDP.index.size)\n",
    "    # GDP.info()\n",
    "    print(GDP.iloc[[0,-1]], '\\n-----------\\n\\n')\n",
    "    return GDP\n",
    "    \n",
    "def scimen():\n",
    "    country_names = {'Côte d’Ivoire': 'Cote d\\'Ivoire',\n",
    "                     'Haïti': 'Haiti',\n",
    "                     'Saint Lucia': 'St. Lucia',\n",
    "                     'Viet Nam': 'Vietnam'\n",
    "                    }\n",
    "    \n",
    "    xl = pd.ExcelFile('scimagojr-3.xlsx')\n",
    "    ScimEn = (xl.parse('Sheet1'))\n",
    "    ScimEn.set_index('Country', inplace=True)\n",
    "    ScimEn.rename(index=country_names, inplace=True)\n",
    "    ScimEn.reset_index(inplace=True)\n",
    "\n",
    "    print('ScimEn df size: ', ScimEn.index.size)\n",
    "    # ScimEn.info()\n",
    "    print(ScimEn.iloc[[0,-1]], '\\n-----------\\n\\n')\n",
    "    return ScimEn\n",
    "    \n",
    "def answer_one():\n",
    "    Energy, GDP, ScimEn = energy(), gdp(), scimen()\n",
    "\n",
    "    tdf = GDP.merge(Energy,on='Country',how='inner')\n",
    "    tdf = tdf.merge(ScimEn,on='Country',how='inner')\n",
    "\n",
    "    print('tdf size: ', tdf.index.size)\n",
    "    # tdf.info()\n",
    "    print(tdf.iloc[[0,-1]], '\\n-----------\\n\\n')\n",
    "    \n",
    "    res = (tdf.where(tdf['Rank'] <= 15)\n",
    "              .dropna(thresh=2)\n",
    "              .set_index('Country'))\n",
    "\n",
    "    # Something in the where or dropna functions above seems to cast int64 fields to float64.\n",
    "    # Re-form to make the grader happy.\n",
    "    res['Rank'] = res['Rank'].astype(np.int64)\n",
    "    res['Documents'] = res['Documents'].astype(np.int64)\n",
    "    res['Citable documents'] = res['Citable documents'].astype(np.int64)\n",
    "    res['Citations'] = res['Citations'].astype(np.int64)\n",
    "    res['Self-citations'] = res['Self-citations'].astype(np.int64)\n",
    "    res['H index'] = res['H index'].astype(np.int64)\n",
    "    \n",
    "    print('res size: ', res.index.size)\n",
    "    # res.info()\n",
    "    print(res.iloc[[0,-1]], '\\n-----------\\n\\n')\n",
    "    return res\n",
    "\n",
    "a1 = answer_one()\n",
    "print(a1)"
   ]
  },
  {
   "cell_type": "markdown",
   "metadata": {},
   "source": [
    "### Question 2 (6.6%)\n",
    "The previous question joined three datasets then reduced this to just the top 15 entries. When you joined the datasets, but before you reduced this to the top 15 items, how many entries did you lose?\n",
    "\n",
    "*This function should return a single number.*"
   ]
  },
  {
   "cell_type": "code",
   "execution_count": 2,
   "metadata": {
    "collapsed": false
   },
   "outputs": [
    {
     "data": {
      "text/html": [
       "<svg width=\"800\" height=\"300\">\n",
       "  <circle cx=\"150\" cy=\"180\" r=\"80\" fill-opacity=\"0.2\" stroke=\"black\" stroke-width=\"2\" fill=\"blue\" />\n",
       "  <circle cx=\"200\" cy=\"100\" r=\"80\" fill-opacity=\"0.2\" stroke=\"black\" stroke-width=\"2\" fill=\"red\" />\n",
       "  <circle cx=\"100\" cy=\"100\" r=\"80\" fill-opacity=\"0.2\" stroke=\"black\" stroke-width=\"2\" fill=\"green\" />\n",
       "  <line x1=\"150\" y1=\"125\" x2=\"300\" y2=\"150\" stroke=\"black\" stroke-width=\"2\" fill=\"black\" stroke-dasharray=\"5,3\"/>\n",
       "  <text  x=\"300\" y=\"165\" font-family=\"Verdana\" font-size=\"35\">Everything but this!</text>\n",
       "</svg>"
      ],
      "text/plain": [
       "<IPython.core.display.HTML object>"
      ]
     },
     "metadata": {},
     "output_type": "display_data"
    }
   ],
   "source": [
    "%%HTML\n",
    "<svg width=\"800\" height=\"300\">\n",
    "  <circle cx=\"150\" cy=\"180\" r=\"80\" fill-opacity=\"0.2\" stroke=\"black\" stroke-width=\"2\" fill=\"blue\" />\n",
    "  <circle cx=\"200\" cy=\"100\" r=\"80\" fill-opacity=\"0.2\" stroke=\"black\" stroke-width=\"2\" fill=\"red\" />\n",
    "  <circle cx=\"100\" cy=\"100\" r=\"80\" fill-opacity=\"0.2\" stroke=\"black\" stroke-width=\"2\" fill=\"green\" />\n",
    "  <line x1=\"150\" y1=\"125\" x2=\"300\" y2=\"150\" stroke=\"black\" stroke-width=\"2\" fill=\"black\" stroke-dasharray=\"5,3\"/>\n",
    "  <text  x=\"300\" y=\"165\" font-family=\"Verdana\" font-size=\"35\">Everything but this!</text>\n",
    "</svg>"
   ]
  },
  {
   "cell_type": "code",
   "execution_count": 15,
   "metadata": {
    "collapsed": false,
    "scrolled": false
   },
   "outputs": [
    {
     "name": "stdout",
     "output_type": "stream",
     "text": [
      "Energy df size:  227\n",
      "         Country  Energy Supply  Energy Supply per Capita  % Renewable\n",
      "0    Afghanistan    321000000.0                      10.0     78.66928\n",
      "226     Zimbabwe    480000000.0                      32.0     52.53612 \n",
      "-----------\n",
      "\n",
      "GDP df size:  264\n",
      "      Country          2006          2007          2008          2009  \\\n",
      "0       Aruba           NaN           NaN           NaN           NaN   \n",
      "263  Zimbabwe  1.006276e+10  9.695130e+09  7.982103e+09  8.459783e+09   \n",
      "\n",
      "             2010          2011          2012          2013          2014  \\\n",
      "0    2.467704e+09           NaN           NaN           NaN           NaN   \n",
      "263  9.422161e+09  1.054391e+10  1.165789e+10  1.218064e+10  1.264939e+10   \n",
      "\n",
      "             2015  \n",
      "0             NaN  \n",
      "263  1.278517e+10   \n",
      "-----------\n",
      "\n",
      "\n",
      "ScimEn df size:  191\n",
      "        Country  Rank  Documents  Citable documents  Citations  \\\n",
      "0         China     1     127050             126767     597237   \n",
      "190  Mauritania   191          1                  1          1   \n",
      "\n",
      "     Self-citations  Citations per document  H index  \n",
      "0            411683                     4.7      138  \n",
      "190               0                     1.0        1   \n",
      "-----------\n",
      "\n",
      "\n",
      "Length of tdf: 178\n",
      "tdf size:  178\n",
      "answer_two:  178\n"
     ]
    }
   ],
   "source": [
    "def answer_two():\n",
    "    Energy, GDP, ScimEn = energy(), gdp(), scimen()\n",
    "    \n",
    "    # print('---- Energy countries (', len(Energy['Country']), '):')\n",
    "    # for c in Energy['Country']:\n",
    "    #     print(c)\n",
    "    # print('---- GDP countries (', len(GDP['Country']), '):')\n",
    "    # for c in GDP['Country']:\n",
    "    #     print(c)\n",
    "    # print('---- ScimEn countries (', len(ScimEn['Country']), '):')\n",
    "    # for c in ScimEn['Country']:\n",
    "    #     print(c)\n",
    "\n",
    "    tdf = GDP.merge(Energy,on='Country',how='inner')\n",
    "    tdf = tdf.merge(ScimEn,on='Country',how='inner')\n",
    "\n",
    "    # tdf_out = GDP.merge(Energy,on='Country',how='outer')\n",
    "    # tdf_out = tdf_out.merge(ScimEn,on='Country',how='outer')\n",
    "    # print('Length of tdf_out:', len(tdf_out))\n",
    "\n",
    "    print('tdf size: ', tdf.index.size)\n",
    "    \n",
    "    return tdf.index.size\n",
    "\n",
    "a2=answer_two()\n",
    "print('answer_two: ', a2)"
   ]
  },
  {
   "cell_type": "markdown",
   "metadata": {},
   "source": [
    "<br>\n",
    "\n",
    "Answer the following questions in the context of only the top 15 countries by Scimagojr Rank (aka the DataFrame returned by `answer_one()`)"
   ]
  },
  {
   "cell_type": "markdown",
   "metadata": {},
   "source": [
    "### Question 3 (6.6%)\n",
    "What is the average GDP over the last 10 years for each country? (exclude missing values from this calculation.)\n",
    "\n",
    "*This function should return a Series named `avgGDP` with 15 countries and their average GDP sorted in descending order.*"
   ]
  },
  {
   "cell_type": "code",
   "execution_count": null,
   "metadata": {
    "collapsed": false,
    "scrolled": true
   },
   "outputs": [],
   "source": [
    "def answer_three():\n",
    "    Top15 = answer_one()\n",
    "    return \"ANSWER\""
   ]
  },
  {
   "cell_type": "markdown",
   "metadata": {},
   "source": [
    "### Question 4 (6.6%)\n",
    "By how much had the GDP changed over the 10 year span for the country with the 6th largest average GDP?\n",
    "\n",
    "*This function should return a single number.*"
   ]
  },
  {
   "cell_type": "code",
   "execution_count": null,
   "metadata": {
    "collapsed": false,
    "scrolled": true
   },
   "outputs": [],
   "source": [
    "def answer_four():\n",
    "    Top15 = answer_one()\n",
    "    return \"ANSWER\""
   ]
  },
  {
   "cell_type": "markdown",
   "metadata": {},
   "source": [
    "### Question 5 (6.6%)\n",
    "What is the mean `Energy Supply per Capita`?\n",
    "\n",
    "*This function should return a single number.*"
   ]
  },
  {
   "cell_type": "code",
   "execution_count": null,
   "metadata": {
    "collapsed": false
   },
   "outputs": [],
   "source": [
    "def answer_five():\n",
    "    Top15 = answer_one()\n",
    "    return \"ANSWER\""
   ]
  },
  {
   "cell_type": "markdown",
   "metadata": {},
   "source": [
    "### Question 6 (6.6%)\n",
    "What country has the maximum % Renewable and what is the percentage?\n",
    "\n",
    "*This function should return a tuple with the name of the country and the percentage.*"
   ]
  },
  {
   "cell_type": "code",
   "execution_count": null,
   "metadata": {
    "collapsed": false
   },
   "outputs": [],
   "source": [
    "def answer_six():\n",
    "    Top15 = answer_one()\n",
    "    return \"ANSWER\""
   ]
  },
  {
   "cell_type": "markdown",
   "metadata": {},
   "source": [
    "### Question 7 (6.6%)\n",
    "Create a new column that is the ratio of Self-Citations to Total Citations. \n",
    "What is the maximum value for this new column, and what country has the highest ratio?\n",
    "\n",
    "*This function should return a tuple with the name of the country and the ratio.*"
   ]
  },
  {
   "cell_type": "code",
   "execution_count": null,
   "metadata": {
    "collapsed": false
   },
   "outputs": [],
   "source": [
    "def answer_seven():\n",
    "    Top15 = answer_one()\n",
    "    return \"ANSWER\""
   ]
  },
  {
   "cell_type": "markdown",
   "metadata": {},
   "source": [
    "### Question 8 (6.6%)\n",
    "\n",
    "Create a column that estimates the population using Energy Supply and Energy Supply per capita. \n",
    "What is the third most populous country according to this estimate?\n",
    "\n",
    "*This function should return a single string value.*"
   ]
  },
  {
   "cell_type": "code",
   "execution_count": null,
   "metadata": {
    "collapsed": false
   },
   "outputs": [],
   "source": [
    "def answer_eight():\n",
    "    Top15 = answer_one()\n",
    "    return \"ANSWER\""
   ]
  },
  {
   "cell_type": "markdown",
   "metadata": {},
   "source": [
    "### Question 9 (6.6%)\n",
    "Create a column that estimates the number of citable documents per person. \n",
    "What is the correlation between the number of citable documents per capita and the energy supply per capita? Use the `.corr()` method, (Pearson's correlation).\n",
    "\n",
    "*This function should return a single number.*\n",
    "\n",
    "*(Optional: Use the built-in function `plot9()` to visualize the relationship between Energy Supply per Capita vs. Citable docs per Capita)*"
   ]
  },
  {
   "cell_type": "code",
   "execution_count": null,
   "metadata": {
    "collapsed": false
   },
   "outputs": [],
   "source": [
    "def answer_nine():\n",
    "    Top15 = answer_one()\n",
    "    return \"ANSWER\""
   ]
  },
  {
   "cell_type": "code",
   "execution_count": null,
   "metadata": {
    "collapsed": false
   },
   "outputs": [],
   "source": [
    "def plot9():\n",
    "    import matplotlib as plt\n",
    "    %matplotlib inline\n",
    "    \n",
    "    Top15 = answer_one()\n",
    "    Top15['PopEst'] = Top15['Energy Supply'] / Top15['Energy Supply per Capita']\n",
    "    Top15['Citable docs per Capita'] = Top15['Citable documents'] / Top15['PopEst']\n",
    "    Top15.plot(x='Citable docs per Capita', y='Energy Supply per Capita', kind='scatter', xlim=[0, 0.0006])"
   ]
  },
  {
   "cell_type": "code",
   "execution_count": null,
   "metadata": {
    "collapsed": false
   },
   "outputs": [],
   "source": [
    "#plot9() # Be sure to comment out plot9() before submitting the assignment!"
   ]
  },
  {
   "cell_type": "markdown",
   "metadata": {},
   "source": [
    "### Question 10 (6.6%)\n",
    "Create a new column with a 1 if the country's % Renewable value is at or above the median for all countries in the top 15, and a 0 if the country's % Renewable value is below the median.\n",
    "\n",
    "*This function should return a series named `HighRenew` whose index is the country name sorted in ascending order of rank.*"
   ]
  },
  {
   "cell_type": "code",
   "execution_count": null,
   "metadata": {
    "collapsed": false
   },
   "outputs": [],
   "source": [
    "def answer_ten():\n",
    "    Top15 = answer_one()\n",
    "    return \"ANSWER\""
   ]
  },
  {
   "cell_type": "markdown",
   "metadata": {},
   "source": [
    "### Question 11 (6.6%)\n",
    "Use the following dictionary to group the Countries by Continent, then create a dateframe that displays the sample size (the number of countries in each continent bin), and the sum, mean, and std deviation for the estimated population of each country.\n",
    "\n",
    "```python\n",
    "ContinentDict  = {'China':'Asia', \n",
    "                  'United States':'North America', \n",
    "                  'Japan':'Asia', \n",
    "                  'United Kingdom':'Europe', \n",
    "                  'Russian Federation':'Europe', \n",
    "                  'Canada':'North America', \n",
    "                  'Germany':'Europe', \n",
    "                  'India':'Asia',\n",
    "                  'France':'Europe', \n",
    "                  'South Korea':'Asia', \n",
    "                  'Italy':'Europe', \n",
    "                  'Spain':'Europe', \n",
    "                  'Iran':'Asia',\n",
    "                  'Australia':'Australia', \n",
    "                  'Brazil':'South America'}\n",
    "```\n",
    "\n",
    "*This function should return a DataFrame with index named Continent `['Asia', 'Australia', 'Europe', 'North America', 'South America']` and columns `['size', 'sum', 'mean', 'std']`*"
   ]
  },
  {
   "cell_type": "code",
   "execution_count": null,
   "metadata": {
    "collapsed": false
   },
   "outputs": [],
   "source": [
    "def answer_eleven():\n",
    "    Top15 = answer_one()\n",
    "    return \"ANSWER\""
   ]
  },
  {
   "cell_type": "markdown",
   "metadata": {},
   "source": [
    "### Question 12 (6.6%)\n",
    "Cut % Renewable into 5 bins. Group Top15 by the Continent, as well as these new % Renewable bins. How many countries are in each of these groups?\n",
    "\n",
    "*This function should return a __Series__ with a MultiIndex of `Continent`, then the bins for `% Renewable`. Do not include groups with no countries.*"
   ]
  },
  {
   "cell_type": "code",
   "execution_count": null,
   "metadata": {
    "collapsed": false,
    "scrolled": true
   },
   "outputs": [],
   "source": [
    "def answer_twelve():\n",
    "    Top15 = answer_one()\n",
    "    return \"ANSWER\""
   ]
  },
  {
   "cell_type": "markdown",
   "metadata": {},
   "source": [
    "### Question 13 (6.6%)\n",
    "Convert the Population Estimate series to a string with thousands separator (using commas). Do not round the results.\n",
    "\n",
    "e.g. 317615384.61538464 -> 317,615,384.61538464\n",
    "\n",
    "*This function should return a Series `PopEst` whose index is the country name and whose values are the population estimate string.*"
   ]
  },
  {
   "cell_type": "code",
   "execution_count": null,
   "metadata": {
    "collapsed": false,
    "scrolled": true
   },
   "outputs": [],
   "source": [
    "def answer_thirteen():\n",
    "    Top15 = answer_one()\n",
    "    return \"ANSWER\""
   ]
  },
  {
   "cell_type": "markdown",
   "metadata": {},
   "source": [
    "### Optional\n",
    "\n",
    "Use the built in function `plot_optional()` to see an example visualization."
   ]
  },
  {
   "cell_type": "code",
   "execution_count": null,
   "metadata": {
    "collapsed": false,
    "scrolled": true
   },
   "outputs": [],
   "source": [
    "def plot_optional():\n",
    "    import matplotlib as plt\n",
    "    %matplotlib inline\n",
    "    Top15 = answer_one()\n",
    "    ax = Top15.plot(x='Rank', y='% Renewable', kind='scatter', \n",
    "                    c=['#e41a1c','#377eb8','#e41a1c','#4daf4a','#4daf4a','#377eb8','#4daf4a','#e41a1c',\n",
    "                       '#4daf4a','#e41a1c','#4daf4a','#4daf4a','#e41a1c','#dede00','#ff7f00'], \n",
    "                    xticks=range(1,16), s=6*Top15['2014']/10**10, alpha=.75, figsize=[16,6]);\n",
    "\n",
    "    for i, txt in enumerate(Top15.index):\n",
    "        ax.annotate(txt, [Top15['Rank'][i], Top15['% Renewable'][i]], ha='center')\n",
    "\n",
    "    print(\"This is an example of a visualization that can be created to help understand the data. \\\n",
    "This is a bubble chart showing % Renewable vs. Rank. The size of the bubble corresponds to the countries' \\\n",
    "2014 GDP, and the color corresponds to the continent.\")"
   ]
  },
  {
   "cell_type": "code",
   "execution_count": null,
   "metadata": {
    "collapsed": false
   },
   "outputs": [],
   "source": [
    "#plot_optional() # Be sure to comment out plot_optional() before submitting the assignment!"
   ]
  }
 ],
 "metadata": {
  "anaconda-cloud": {},
  "coursera": {
   "course_slug": "python-data-analysis",
   "graded_item_id": "zAr06",
   "launcher_item_id": "KSSjT",
   "part_id": "SL3fU"
  },
  "kernelspec": {
   "display_name": "Python 3",
   "language": "python",
   "name": "python3"
  },
  "language_info": {
   "codemirror_mode": {
    "name": "ipython",
    "version": 3
   },
   "file_extension": ".py",
   "mimetype": "text/x-python",
   "name": "python",
   "nbconvert_exporter": "python",
   "pygments_lexer": "ipython3",
   "version": "3.6.0"
  }
 },
 "nbformat": 4,
 "nbformat_minor": 0
}
