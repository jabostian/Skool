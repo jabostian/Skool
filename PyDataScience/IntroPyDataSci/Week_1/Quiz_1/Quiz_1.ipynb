{
 "cells": [
  {
   "cell_type": "markdown",
   "metadata": {},
   "source": [
    "## This is a work notebook to try things out for the week 1 quiz.\n"
   ]
  },
  {
   "cell_type": "code",
   "execution_count": 2,
   "metadata": {
    "collapsed": false
   },
   "outputs": [],
   "source": [
    "import numpy as np\n",
    "r = np.arange(36)\n",
    "r = r.reshape(6,6)\n",
    "s = r.copy()\n"
   ]
  },
  {
   "cell_type": "markdown",
   "metadata": {},
   "source": [
    "![Question 11](Question_11.png)"
   ]
  },
  {
   "cell_type": "code",
   "execution_count": 3,
   "metadata": {
    "collapsed": false
   },
   "outputs": [
    {
     "name": "stdout",
     "output_type": "stream",
     "text": [
      "r: [[ 0  1  2  3  4  5]\n",
      " [ 6  7  8  9 10 11]\n",
      " [12 13 14 15 16 17]\n",
      " [18 19 20 21 22 23]\n",
      " [24 25 26 27 28 29]\n",
      " [30 31 32 33 34 35]] \n",
      "\n",
      "slice: [ 0  7 14 21 28 35]\n"
     ]
    }
   ],
   "source": [
    "print('r:', r, '\\n')\n",
    "print('slice:', s.reshape(36)[::7])"
   ]
  },
  {
   "cell_type": "markdown",
   "metadata": {},
   "source": [
    "\n",
    "![Question 12](Question_12.png)"
   ]
  },
  {
   "cell_type": "code",
   "execution_count": 5,
   "metadata": {
    "collapsed": false
   },
   "outputs": [
    {
     "name": "stdout",
     "output_type": "stream",
     "text": [
      "Answer 1: [14 21]\n",
      "Answer 2: [[14 16]\n",
      " [26 28]]\n",
      "Answer 3: [[14 15]\n",
      " [20 21]]\n",
      "Answer 4: [[ 0  2  4]\n",
      " [12 14 16]\n",
      " [24 26 28]]\n"
     ]
    }
   ],
   "source": [
    "print('Answer 1:', r[[2,3],[2,3]])\n",
    "print('Answer 2:', r[2::2,2::2])\n",
    "print('Answer 3:', r[2:4,2:4])\n",
    "print('Answer 4:', r[::2,::2])"
   ]
  }
 ],
 "metadata": {
  "kernelspec": {
   "display_name": "Python 3",
   "language": "python",
   "name": "python3"
  },
  "language_info": {
   "codemirror_mode": {
    "name": "ipython",
    "version": 3
   },
   "file_extension": ".py",
   "mimetype": "text/x-python",
   "name": "python",
   "nbconvert_exporter": "python",
   "pygments_lexer": "ipython3",
   "version": "3.6.0"
  }
 },
 "nbformat": 4,
 "nbformat_minor": 2
}
