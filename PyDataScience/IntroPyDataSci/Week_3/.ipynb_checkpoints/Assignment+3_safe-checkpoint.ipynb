{
 "cells": [
  {
   "cell_type": "markdown",
   "metadata": {},
   "source": [
    "---\n",
    "\n",
    "_You are currently looking at **version 1.5** of this notebook. To download notebooks and datafiles, as well as get help on Jupyter notebooks in the Coursera platform, visit the [Jupyter Notebook FAQ](https://www.coursera.org/learn/python-data-analysis/resources/0dhYG) course resource._\n",
    "\n",
    "---"
   ]
  },
  {
   "cell_type": "markdown",
   "metadata": {},
   "source": [
    "# Assignment 3 - More Pandas\n",
    "This assignment requires more individual learning then the last one did - you are encouraged to check out the [pandas documentation](http://pandas.pydata.org/pandas-docs/stable/) to find functions or methods you might not have used yet, or ask questions on [Stack Overflow](http://stackoverflow.com/) and tag them as pandas and python related. And of course, the discussion forums are open for interaction with your peers and the course staff."
   ]
  },
  {
   "cell_type": "markdown",
   "metadata": {},
   "source": [
    "### Question 1 (20%)\n",
    "Load the energy data from the file `Energy Indicators.xls`, which is a list of indicators of [energy supply and renewable electricity production](Energy%20Indicators.xls) from the [United Nations](http://unstats.un.org/unsd/environment/excel_file_tables/2013/Energy%20Indicators.xls) for the year 2013, and should be put into a DataFrame with the variable name of **energy**.\n",
    "\n",
    "Keep in mind that this is an Excel file, and not a comma separated values file. Also, make sure to exclude the footer and header information from the datafile. The first two columns are unneccessary, so you should get rid of them, and you should change the column labels so that the columns are:\n",
    "\n",
    "`['Country', 'Energy Supply', 'Energy Supply per Capita', '% Renewable']`\n",
    "\n",
    "Convert `Energy Supply` to gigajoules (there are 1,000,000 gigajoules in a petajoule). For all countries which have missing data (e.g. data with \"...\") make sure this is reflected as `np.NaN` values.\n",
    "\n",
    "Rename the following list of countries (for use in later questions):\n",
    "\n",
    "```\"Republic of Korea\": \"South Korea\",\n",
    "\"United States of America\": \"United States\",\n",
    "\"United Kingdom of Great Britain and Northern Ireland\": \"United Kingdom\",\n",
    "\"China, Hong Kong Special Administrative Region\": \"Hong Kong\"```\n",
    "\n",
    "There are also several countries with numbers and/or parenthesis in their name. Be sure to remove these, \n",
    "\n",
    "e.g. \n",
    "\n",
    "`'Bolivia (Plurinational State of)'` should be `'Bolivia'`, \n",
    "\n",
    "`'Switzerland17'` should be `'Switzerland'`.\n",
    "\n",
    "<br>\n",
    "\n",
    "Next, load the GDP data from the file `world_bank.csv`, which is a csv containing countries' GDP from 1960 to 2015 from [World Bank](http://data.worldbank.org/indicator/NY.GDP.MKTP.CD). Call this DataFrame **GDP**. \n",
    "\n",
    "Make sure to skip the header, and rename the following list of countries:\n",
    "\n",
    "```\"Korea, Rep.\": \"South Korea\", \n",
    "\"Iran, Islamic Rep.\": \"Iran\",\n",
    "\"Hong Kong SAR, China\": \"Hong Kong\"```\n",
    "\n",
    "<br>\n",
    "\n",
    "Finally, load the [Sciamgo Journal and Country Rank data for Energy Engineering and Power Technology](http://www.scimagojr.com/countryrank.php?category=2102) from the file `scimagojr-3.xlsx`, which ranks countries based on their journal contributions in the aforementioned area. Call this DataFrame **ScimEn**.\n",
    "\n",
    "Join the three datasets: GDP, Energy, and ScimEn into a new dataset (using the intersection of country names). Use only the last 10 years (2006-2015) of GDP data and only the top 15 countries by Scimagojr 'Rank' (Rank 1 through 15). \n",
    "\n",
    "The index of this DataFrame should be the name of the country, and the columns should be ['Rank', 'Documents', 'Citable documents', 'Citations', 'Self-citations',\n",
    "       'Citations per document', 'H index', 'Energy Supply',\n",
    "       'Energy Supply per Capita', '% Renewable', '2006', '2007', '2008',\n",
    "       '2009', '2010', '2011', '2012', '2013', '2014', '2015'].\n",
    "\n",
    "*This function should return a DataFrame with 20 columns and 15 entries.*"
   ]
  },
  {
   "cell_type": "markdown",
   "metadata": {},
   "source": [
    "### My work area."
   ]
  },
  {
   "cell_type": "code",
   "execution_count": null,
   "metadata": {
    "collapsed": false
   },
   "outputs": [],
   "source": [
    "import pandas as pd\n",
    "import numpy as np\n",
    "\n",
    "def energy():\n",
    "    country_names = {'Bolivia (Plurinational State of)': 'Bolivia',\n",
    "                     'China, Hong Kong Special Administrative Region': 'Hong Kong',\n",
    "                     'Falkland Islands (Malvinas)': 'Falkland Islands',\n",
    "                     'Iran (Islamic Republic of)': 'Iran',\n",
    "                     'Micronesia (Federated States of)': 'Micronesia',\n",
    "                     'Republic of Korea': 'South Korea',\n",
    "                     'Sint Maarten (Dutch part)': 'Sint Maarten',\n",
    "                     'United Kingdom of Great Britain and Northern Ireland': 'United Kingdom',\n",
    "                     'United States of America': 'United States',\n",
    "                     'Venezuela (Bolivarian Republic of)': 'Venezuela'\n",
    "                    }\n",
    "\n",
    "    xl = pd.ExcelFile('Energy Indicators.xls')\n",
    "    Energy = (xl.parse('Energy', na_values='...')\n",
    "                .drop([0,1,2,3,4,5,6,7,8,9,10,11,12,13,14,15],0)\n",
    "                .drop(['Unnamed: 0', 'Unnamed: 1'], 1)\n",
    "                .dropna(thresh=2)\n",
    "                .rename(columns={'Environmental Indicators: Energy': 'Country',\n",
    "                                 'Unnamed: 3': 'Energy Supply',\n",
    "                                 'Unnamed: 4': 'Energy Supply per Capita',\n",
    "                                 'Unnamed: 5': '% Renewable'}))\n",
    "\n",
    "    Energy['Country'] = Energy['Country'].str.replace('\\d+', '')\n",
    "    Energy['Energy Supply'] = Energy['Energy Supply'] * 1000000\n",
    "    Energy.set_index('Country', inplace=True)\n",
    "    Energy.rename(index=country_names, inplace=True)\n",
    "    Energy.reset_index(inplace=True)\n",
    "    \n",
    "    Energy['Energy Supply'] = Energy['Energy Supply'].astype(np.float64)\n",
    "    Energy['Energy Supply per Capita'] = Energy['Energy Supply per Capita'].astype(np.float64)\n",
    "    Energy['% Renewable'] = Energy['% Renewable'].astype(np.float64)\n",
    "\n",
    "    # print('Energy df size: ', Energy.index.size)\n",
    "    # Energy.info()\n",
    "    # print(Energy.iloc[[0,-1]], '\\n-----------\\n')\n",
    "    return Energy\n",
    "    \n",
    "def gdp():\n",
    "    country_names = {'Korea, Rep.': 'South Korea', \n",
    "                     'Iran, Islamic Rep.': 'Iran',\n",
    "                     'Hong Kong SAR, China': 'Hong Kong'\n",
    "                    }\n",
    "    \n",
    "    GDP = pd.read_csv('world_bank.csv', header=4)\n",
    "    GDP = GDP.rename(columns={'Country Name': 'Country'})\n",
    "    GDP = GDP[['Country','2006','2007','2008','2009','2010','2011','2012','2013','2014','2015']]\n",
    "    GDP.set_index('Country', inplace=True)\n",
    "    GDP.rename(index=country_names, inplace=True)\n",
    "    GDP.reset_index(inplace=True)\n",
    "\n",
    "    # print('GDP df size: ', GDP.index.size)\n",
    "    # GDP.info()\n",
    "    # print(GDP.iloc[[0,-1]], '\\n-----------\\n\\n')\n",
    "    return GDP\n",
    "    \n",
    "def scimen():\n",
    "    # country_names = {'Côte d’Ivoire': 'Cote d\\'Ivoire',\n",
    "    #                  'Haïti': 'Haiti',\n",
    "    #                  'Saint Lucia': 'St. Lucia',\n",
    "    #                  'Viet Nam': 'Vietnam'\n",
    "    #                 }\n",
    "    \n",
    "    xl = pd.ExcelFile('scimagojr-3.xlsx')\n",
    "    ScimEn = (xl.parse('Sheet1'))\n",
    "    # ScimEn.set_index('Rank', inplace=True)\n",
    "    # ScimEn.rename(index=country_names, inplace=True)\n",
    "    # ScimEn.reset_index(inplace=True)\n",
    "\n",
    "    # print('ScimEn df size: ', ScimEn.index.size)\n",
    "    # ScimEn.info()\n",
    "    # print(ScimEn.iloc[[0,-1]], '\\n-----------\\n\\n')\n",
    "    return ScimEn\n",
    "\n",
    "def test_energy(countries):\n",
    "    \"\"\"\n",
    "    Input: a series/ the Country column in Energy\n",
    "    utf-8 encoded i.e. when reading Energy use\n",
    "    encoding='utf-8'\n",
    "    \"\"\"\n",
    "    encodedC = '11,7,7,14,7,6,8,19,9,7,5,9,7,10,7,7,10,8,7,7,6,5,7,6,7,32,22,8,6,22,17,8,12,7,10,8,8,6,14,24,4,5,5,9,42,8,7,5,12,10,13,7,4,7,6,14,37,32,7,8,8,18,7,5,11,17,7,7,8,14,16,4,7,6,13,16,5,6,7,7,5,9,6,9,7,10,4,9,8,6,13,6,5,8,7,7,5,9,4,4,7,11,6,5,7,5,6,6,10,5,8,6,10,32,6,7,7,7,5,13,9,10,10,6,8,8,4,5,16,10,10,9,6,10,8,10,10,7,10,7,7,5,5,11,13,11,9,5,7,4,24,6,4,8,5,6,16,8,4,11,6,8,11,5,11,19,7,7,18,6,12,21,11,25,32,5,21,12,7,6,10,12,9,12,8,8,15,7,12,11,5,9,18,5,8,9,6,11,20,10,8,41,11,4,5,19,7,6,12,24,6,6,7,20,14,27,13,28,7,10,7,9,8,25,5,6,8'\n",
    "    outcome = ['Failed\\n', 'Passed\\n']\n",
    "    \n",
    "    \n",
    "    \n",
    "    energy = pd.DataFrame()\n",
    "    energy['original'] = pd.read_excel('Energy Indicators.xls',\n",
    "                                   usecols=[1],encoding='utf-8',\n",
    "                                   index_col=0).loc['Afghanistan':'Zimbabwe'].index.tolist()\n",
    "    energy['tested'] = countries.str.len()\n",
    "    energy['actual'] = encodedC.split(',')\n",
    "    energy['actual'] = energy['actual'].astype(int)\n",
    "    try:\n",
    "        energy['Country'] = countries\n",
    "    except Exception as e:\n",
    "        print('Failed, error: ',e)\n",
    "    \n",
    "    res = 'Test number of records: '\n",
    "    res += outcome[len(countries)==len(energy)]\n",
    "    \n",
    "    res += 'Test the column name: '\n",
    "    res += outcome [countries.name == 'Country']\n",
    "    \n",
    "    res += 'Equality Test: '\n",
    "    res += outcome[energy['tested'].equals(energy['actual'])]\n",
    "    \n",
    "    if not energy['tested'].equals(energy['actual']):\n",
    "        res += '\\nMismatched countries:\\n'\n",
    "        mismatch = energy.loc[energy['tested'] != (energy['actual']), [\n",
    "            'original', 'Country', 'tested', 'actual']].values.tolist()\n",
    "        res += '\\n'.join('\"{:}\" miss-cleaned as  \"{:}\"'.format(o, r)\n",
    "                         for o, r, s, v in mismatch)\n",
    "    return res\n",
    "\n",
    "\n",
    "def test_gdp(countries):\n",
    "    \"\"\"\n",
    "    Input: a series/ the Country column in GDP\n",
    "    utf-8 encoded i.e. when reading GDP use\n",
    "    encoding='utf-8'\n",
    "    \"\"\"\n",
    "    encodedC = '5,7,11,6,7,10,20,9,7,14,19,9,7,10,7,7,5,12,10,8,7,12,22,7,6,7,7,6,8,17,6,8,24,6,30,11,15,5,5,13,8,11,8,7,10,10,22,4,7,14,6,14,7,8,8,7,18,7,43,26,19,45,21,7,16,9,7,5,7,8,14,40,7,4,6,13,21,5,14,7,5,9,6,11,13,17,6,7,9,9,4,6,11,9,8,38,7,5,7,9,16,9,9,9,8,11,5,14,7,4,4,7,6,5,7,6,5,10,5,15,8,8,19,11,6,6,49,7,7,7,5,9,25,44,10,13,9,19,19,7,25,9,10,6,16,24,7,6,7,10,8,26,6,16,13,14,4,5,7,50,10,8,24,10,10,9,6,8,13,7,13,5,7,9,11,6,5,5,11,12,4,18,8,6,4,11,5,16,6,24,11,25,8,8,27,25,16,5,7,18,6,10,12,5,7,9,15,12,11,10,7,6,42,11,18,12,21,8,15,8,6,9,25,10,20,24,4,42,44,4,8,10,12,52,49,11,5,23,41,19,7,6,6,8,6,7,19,7,13,10,30,13,22,21,7,7,18,5,5,11,12,16,6,8'\n",
    "    outcome = ['Failed\\n', 'Passed\\n']\n",
    "    \n",
    "    \n",
    "    \n",
    "    GDP = pd.DataFrame()\n",
    "    GDP['original'] = pd.read_csv('world_bank.csv',\n",
    "                                  usecols=[0],encoding='utf-8',\n",
    "                                  index_col=0).loc['Aruba':'Zimbabwe'].index.tolist()\n",
    "    GDP['tested'] = countries.str.len()\n",
    "    GDP['actual'] = encodedC.split(',')\n",
    "    GDP['actual'] = GDP['actual'].astype(int)\n",
    "    try:\n",
    "        GDP['Country'] = countries\n",
    "    except Exception as e:\n",
    "        print('Failed, error: ',e)\n",
    "    \n",
    "    res = 'Test number of records: '\n",
    "    res += outcome[len(countries)==len(GDP)]\n",
    "    \n",
    "    res += 'Test the column name: '\n",
    "    res += outcome [countries.name == 'Country']\n",
    "    \n",
    "    res += 'Equality Test: '\n",
    "    res += outcome[GDP['tested'].equals(GDP['actual'])]\n",
    "    \n",
    "    if not GDP['tested'].equals(GDP['actual']):\n",
    "        res += '\\nMismatched countries:\\n'\n",
    "        mismatch = GDP.loc[GDP['tested'] != (GDP['actual']), [\n",
    "            'original', 'Country', 'tested', 'actual']].values.tolist()\n",
    "        res += '\\n'.join('\"{:}\" miss-cleaned as  \"{:}\"'.format(o, r)\n",
    "                         for o, r, s, v in mismatch)\n",
    "    return res\n",
    "\n",
    "    \n",
    "def answer_one():\n",
    "    Energy, GDP, ScimEn = energy(), gdp(), scimen()\n",
    "    print(test_energy(Energy.loc[:,'Country']))\n",
    "    print('\\n----\\n')\n",
    "    print(test_gdp(GDP['Country']))\n",
    "\n",
    "    tdf = GDP.merge(Energy,on='Country',how='inner')\n",
    "    tdf = tdf.merge(ScimEn,on='Country',how='inner')\n",
    "\n",
    "    # print('tdf size: ', tdf.index.size)\n",
    "    # tdf.info()\n",
    "    # print(tdf.iloc[[0,-1]], '\\n-----------\\n\\n')\n",
    "    \n",
    "    res = (tdf.where(tdf['Rank'] <= 15)\n",
    "              .dropna(thresh=2)\n",
    "              .set_index('Country'))\n",
    "\n",
    "    # Something in the where or dropna functions above seems to cast int64 fields to float64.\n",
    "    # Re-form to make the grader happy.\n",
    "    res['Rank'] = res['Rank'].astype(np.int64)\n",
    "    res['Documents'] = res['Documents'].astype(np.int64)\n",
    "    res['Citable documents'] = res['Citable documents'].astype(np.int64)\n",
    "    res['Citations'] = res['Citations'].astype(np.int64)\n",
    "    res['Self-citations'] = res['Self-citations'].astype(np.int64)\n",
    "    res['H index'] = res['H index'].astype(np.int64)\n",
    "    \n",
    "    # print('res size: ', res.index.size)\n",
    "    # res.info()\n",
    "    # print(res.index)\n",
    "    # print(res.iloc[[0,-1]], '\\n-----------\\n\\n')\n",
    "    return res\n",
    "\n",
    "answer_one()"
   ]
  },
  {
   "cell_type": "markdown",
   "metadata": {},
   "source": [
    "### Question 2 (6.6%)\n",
    "The previous question joined three datasets then reduced this to just the top 15 entries. When you joined the datasets, but before you reduced this to the top 15 items, how many entries did you lose?\n",
    "\n",
    "*This function should return a single number.*"
   ]
  },
  {
   "cell_type": "code",
   "execution_count": null,
   "metadata": {
    "collapsed": false
   },
   "outputs": [],
   "source": [
    "%%HTML\n",
    "<svg width=\"800\" height=\"300\">\n",
    "  <circle cx=\"150\" cy=\"180\" r=\"80\" fill-opacity=\"0.2\" stroke=\"black\" stroke-width=\"2\" fill=\"blue\" />\n",
    "  <circle cx=\"200\" cy=\"100\" r=\"80\" fill-opacity=\"0.2\" stroke=\"black\" stroke-width=\"2\" fill=\"red\" />\n",
    "  <circle cx=\"100\" cy=\"100\" r=\"80\" fill-opacity=\"0.2\" stroke=\"black\" stroke-width=\"2\" fill=\"green\" />\n",
    "  <line x1=\"150\" y1=\"125\" x2=\"300\" y2=\"150\" stroke=\"black\" stroke-width=\"2\" fill=\"black\" stroke-dasharray=\"5,3\"/>\n",
    "  <text  x=\"300\" y=\"165\" font-family=\"Verdana\" font-size=\"35\">Everything but this!</text>\n",
    "</svg>"
   ]
  },
  {
   "cell_type": "code",
   "execution_count": null,
   "metadata": {
    "collapsed": false,
    "scrolled": false
   },
   "outputs": [],
   "source": [
    "def answer_two():\n",
    "    Energy, GDP, ScimEn = energy(), gdp(), scimen()\n",
    "\n",
    "    tdf_inner = GDP.merge(Energy,on='Country',how='inner')\n",
    "    tdf_inner = tdf_inner.merge(ScimEn,on='Country',how='inner')\n",
    "    print('tdf_inner size:', tdf_inner.index.size)\n",
    "\n",
    "    tdf_outer = GDP.merge(Energy,on='Country',how='outer')\n",
    "    tdf_outer = tdf_outer.merge(ScimEn,on='Country',how='outer')\n",
    "    print('tdf_outer size:', tdf_outer.index.size)\n",
    "    \n",
    "    return tdf_outer.index.size - tdf_inner.index.size\n",
    "\n",
    "answer_two()"
   ]
  },
  {
   "cell_type": "markdown",
   "metadata": {},
   "source": [
    "<br>\n",
    "\n",
    "Answer the following questions in the context of only the top 15 countries by Scimagojr Rank (aka the DataFrame returned by `answer_one()`)"
   ]
  },
  {
   "cell_type": "markdown",
   "metadata": {},
   "source": [
    "### Question 3 (6.6%)\n",
    "What is the average GDP over the last 10 years for each country? (exclude missing values from this calculation.)\n",
    "\n",
    "*This function should return a Series named `avgGDP` with 15 countries and their average GDP sorted in descending order.*"
   ]
  },
  {
   "cell_type": "code",
   "execution_count": null,
   "metadata": {
    "collapsed": false,
    "scrolled": true
   },
   "outputs": [],
   "source": [
    "def answer_three():\n",
    "    Top15 = answer_one()\n",
    "    return \"ANSWER\""
   ]
  },
  {
   "cell_type": "markdown",
   "metadata": {},
   "source": [
    "### Question 4 (6.6%)\n",
    "By how much had the GDP changed over the 10 year span for the country with the 6th largest average GDP?\n",
    "\n",
    "*This function should return a single number.*"
   ]
  },
  {
   "cell_type": "code",
   "execution_count": null,
   "metadata": {
    "collapsed": false,
    "scrolled": true
   },
   "outputs": [],
   "source": [
    "def answer_four():\n",
    "    Top15 = answer_one()\n",
    "    return \"ANSWER\""
   ]
  },
  {
   "cell_type": "markdown",
   "metadata": {},
   "source": [
    "### Question 5 (6.6%)\n",
    "What is the mean `Energy Supply per Capita`?\n",
    "\n",
    "*This function should return a single number.*"
   ]
  },
  {
   "cell_type": "code",
   "execution_count": null,
   "metadata": {
    "collapsed": false
   },
   "outputs": [],
   "source": [
    "def answer_five():\n",
    "    Top15 = answer_one()\n",
    "    return \"ANSWER\""
   ]
  },
  {
   "cell_type": "markdown",
   "metadata": {},
   "source": [
    "### Question 6 (6.6%)\n",
    "What country has the maximum % Renewable and what is the percentage?\n",
    "\n",
    "*This function should return a tuple with the name of the country and the percentage.*"
   ]
  },
  {
   "cell_type": "code",
   "execution_count": null,
   "metadata": {
    "collapsed": false
   },
   "outputs": [],
   "source": [
    "def answer_six():\n",
    "    Top15 = answer_one()\n",
    "    return \"ANSWER\""
   ]
  },
  {
   "cell_type": "markdown",
   "metadata": {},
   "source": [
    "### Question 7 (6.6%)\n",
    "Create a new column that is the ratio of Self-Citations to Total Citations. \n",
    "What is the maximum value for this new column, and what country has the highest ratio?\n",
    "\n",
    "*This function should return a tuple with the name of the country and the ratio.*"
   ]
  },
  {
   "cell_type": "code",
   "execution_count": null,
   "metadata": {
    "collapsed": false
   },
   "outputs": [],
   "source": [
    "def answer_seven():\n",
    "    Top15 = answer_one()\n",
    "    return \"ANSWER\""
   ]
  },
  {
   "cell_type": "markdown",
   "metadata": {},
   "source": [
    "### Question 8 (6.6%)\n",
    "\n",
    "Create a column that estimates the population using Energy Supply and Energy Supply per capita. \n",
    "What is the third most populous country according to this estimate?\n",
    "\n",
    "*This function should return a single string value.*"
   ]
  },
  {
   "cell_type": "code",
   "execution_count": null,
   "metadata": {
    "collapsed": false
   },
   "outputs": [],
   "source": [
    "def answer_eight():\n",
    "    Top15 = answer_one()\n",
    "    return \"ANSWER\""
   ]
  },
  {
   "cell_type": "markdown",
   "metadata": {},
   "source": [
    "### Question 9 (6.6%)\n",
    "Create a column that estimates the number of citable documents per person. \n",
    "What is the correlation between the number of citable documents per capita and the energy supply per capita? Use the `.corr()` method, (Pearson's correlation).\n",
    "\n",
    "*This function should return a single number.*\n",
    "\n",
    "*(Optional: Use the built-in function `plot9()` to visualize the relationship between Energy Supply per Capita vs. Citable docs per Capita)*"
   ]
  },
  {
   "cell_type": "code",
   "execution_count": null,
   "metadata": {
    "collapsed": false
   },
   "outputs": [],
   "source": [
    "def answer_nine():\n",
    "    Top15 = answer_one()\n",
    "    return \"ANSWER\""
   ]
  },
  {
   "cell_type": "code",
   "execution_count": null,
   "metadata": {
    "collapsed": false
   },
   "outputs": [],
   "source": [
    "def plot9():\n",
    "    import matplotlib as plt\n",
    "    %matplotlib inline\n",
    "    \n",
    "    Top15 = answer_one()\n",
    "    Top15['PopEst'] = Top15['Energy Supply'] / Top15['Energy Supply per Capita']\n",
    "    Top15['Citable docs per Capita'] = Top15['Citable documents'] / Top15['PopEst']\n",
    "    Top15.plot(x='Citable docs per Capita', y='Energy Supply per Capita', kind='scatter', xlim=[0, 0.0006])"
   ]
  },
  {
   "cell_type": "code",
   "execution_count": null,
   "metadata": {
    "collapsed": false
   },
   "outputs": [],
   "source": [
    "#plot9() # Be sure to comment out plot9() before submitting the assignment!"
   ]
  },
  {
   "cell_type": "markdown",
   "metadata": {},
   "source": [
    "### Question 10 (6.6%)\n",
    "Create a new column with a 1 if the country's % Renewable value is at or above the median for all countries in the top 15, and a 0 if the country's % Renewable value is below the median.\n",
    "\n",
    "*This function should return a series named `HighRenew` whose index is the country name sorted in ascending order of rank.*"
   ]
  },
  {
   "cell_type": "code",
   "execution_count": null,
   "metadata": {
    "collapsed": false
   },
   "outputs": [],
   "source": [
    "def answer_ten():\n",
    "    Top15 = answer_one()\n",
    "    return \"ANSWER\""
   ]
  },
  {
   "cell_type": "markdown",
   "metadata": {},
   "source": [
    "### Question 11 (6.6%)\n",
    "Use the following dictionary to group the Countries by Continent, then create a dateframe that displays the sample size (the number of countries in each continent bin), and the sum, mean, and std deviation for the estimated population of each country.\n",
    "\n",
    "```python\n",
    "ContinentDict  = {'China':'Asia', \n",
    "                  'United States':'North America', \n",
    "                  'Japan':'Asia', \n",
    "                  'United Kingdom':'Europe', \n",
    "                  'Russian Federation':'Europe', \n",
    "                  'Canada':'North America', \n",
    "                  'Germany':'Europe', \n",
    "                  'India':'Asia',\n",
    "                  'France':'Europe', \n",
    "                  'South Korea':'Asia', \n",
    "                  'Italy':'Europe', \n",
    "                  'Spain':'Europe', \n",
    "                  'Iran':'Asia',\n",
    "                  'Australia':'Australia', \n",
    "                  'Brazil':'South America'}\n",
    "```\n",
    "\n",
    "*This function should return a DataFrame with index named Continent `['Asia', 'Australia', 'Europe', 'North America', 'South America']` and columns `['size', 'sum', 'mean', 'std']`*"
   ]
  },
  {
   "cell_type": "code",
   "execution_count": null,
   "metadata": {
    "collapsed": false
   },
   "outputs": [],
   "source": [
    "def answer_eleven():\n",
    "    Top15 = answer_one()\n",
    "    return \"ANSWER\""
   ]
  },
  {
   "cell_type": "markdown",
   "metadata": {},
   "source": [
    "### Question 12 (6.6%)\n",
    "Cut % Renewable into 5 bins. Group Top15 by the Continent, as well as these new % Renewable bins. How many countries are in each of these groups?\n",
    "\n",
    "*This function should return a __Series__ with a MultiIndex of `Continent`, then the bins for `% Renewable`. Do not include groups with no countries.*"
   ]
  },
  {
   "cell_type": "code",
   "execution_count": null,
   "metadata": {
    "collapsed": false,
    "scrolled": true
   },
   "outputs": [],
   "source": [
    "def answer_twelve():\n",
    "    Top15 = answer_one()\n",
    "    return \"ANSWER\""
   ]
  },
  {
   "cell_type": "markdown",
   "metadata": {},
   "source": [
    "### Question 13 (6.6%)\n",
    "Convert the Population Estimate series to a string with thousands separator (using commas). Do not round the results.\n",
    "\n",
    "e.g. 317615384.61538464 -> 317,615,384.61538464\n",
    "\n",
    "*This function should return a Series `PopEst` whose index is the country name and whose values are the population estimate string.*"
   ]
  },
  {
   "cell_type": "code",
   "execution_count": null,
   "metadata": {
    "collapsed": false,
    "scrolled": true
   },
   "outputs": [],
   "source": [
    "def answer_thirteen():\n",
    "    Top15 = answer_one()\n",
    "    return \"ANSWER\""
   ]
  },
  {
   "cell_type": "markdown",
   "metadata": {},
   "source": [
    "### Optional\n",
    "\n",
    "Use the built in function `plot_optional()` to see an example visualization."
   ]
  },
  {
   "cell_type": "code",
   "execution_count": null,
   "metadata": {
    "collapsed": false,
    "scrolled": true
   },
   "outputs": [],
   "source": [
    "def plot_optional():\n",
    "    import matplotlib as plt\n",
    "    %matplotlib inline\n",
    "    Top15 = answer_one()\n",
    "    ax = Top15.plot(x='Rank', y='% Renewable', kind='scatter', \n",
    "                    c=['#e41a1c','#377eb8','#e41a1c','#4daf4a','#4daf4a','#377eb8','#4daf4a','#e41a1c',\n",
    "                       '#4daf4a','#e41a1c','#4daf4a','#4daf4a','#e41a1c','#dede00','#ff7f00'], \n",
    "                    xticks=range(1,16), s=6*Top15['2014']/10**10, alpha=.75, figsize=[16,6]);\n",
    "\n",
    "    for i, txt in enumerate(Top15.index):\n",
    "        ax.annotate(txt, [Top15['Rank'][i], Top15['% Renewable'][i]], ha='center')\n",
    "\n",
    "    print(\"This is an example of a visualization that can be created to help understand the data. \\\n",
    "This is a bubble chart showing % Renewable vs. Rank. The size of the bubble corresponds to the countries' \\\n",
    "2014 GDP, and the color corresponds to the continent.\")"
   ]
  },
  {
   "cell_type": "code",
   "execution_count": null,
   "metadata": {
    "collapsed": false
   },
   "outputs": [],
   "source": [
    "#plot_optional() # Be sure to comment out plot_optional() before submitting the assignment!"
   ]
  }
 ],
 "metadata": {
  "anaconda-cloud": {},
  "coursera": {
   "course_slug": "python-data-analysis",
   "graded_item_id": "zAr06",
   "launcher_item_id": "KSSjT",
   "part_id": "SL3fU"
  },
  "kernelspec": {
   "display_name": "Python 3",
   "language": "python",
   "name": "python3"
  },
  "language_info": {
   "codemirror_mode": {
    "name": "ipython",
    "version": 3
   },
   "file_extension": ".py",
   "mimetype": "text/x-python",
   "name": "python",
   "nbconvert_exporter": "python",
   "pygments_lexer": "ipython3",
   "version": "3.6.0"
  }
 },
 "nbformat": 4,
 "nbformat_minor": 0
}
